{
 "cells": [
  {
   "cell_type": "code",
   "execution_count": null,
   "metadata": {},
   "outputs": [],
   "source": [
    "import os\n",
    "import dspy\n",
    "import cohere\n",
    "\n",
    "from datetime import datetime\n",
    "from chromadb.utils.embedding_functions import OpenAIEmbeddingFunction\n",
    "from cohere.responses.rerank import RerankResult\n",
    "\n",
    "from dspy.predict import Retry\n",
    "from dspy.primitives.assertions import assert_transform_module, backtrack_handler\n",
    "\n",
    "from typing import Dict, Optional, List\n",
    "from tqdm import tqdm\n",
    "\n",
    "from utils import pp, ppj, ppjf\n",
    "from utils import exists, defaults\n",
    "from citations_utils import create_reference_nodes\n",
    "from rag_logger import logger\n",
    "from rag_config import RAGConfig\n",
    "from chroma_db_retriever import ChromadbRM\n",
    "from rag_utils import * # change\n",
    "from signatures import * # change\n",
    "from rag import RAG, load_rag\n",
    "\n",
    "from dotenv import load_dotenv\n",
    "load_dotenv()\n",
    "\n",
    "rag_config = RAGConfig()\n"
   ]
  },
  {
   "cell_type": "code",
   "execution_count": null,
   "metadata": {},
   "outputs": [],
   "source": [
    "embedding_function = OpenAIEmbeddingFunction(\n",
    "    api_key=os.environ.get('OPENAI_API_KEY'),\n",
    "    model_name=rag_config.default_embed_model\n",
    ")\n",
    "\n",
    "retriever_model = ChromadbRM(\n",
    "    collection_name=rag_config.collection_name, \n",
    "    persist_directory=rag_config.default_client_path, \n",
    "    embedding_function=embedding_function,\n",
    "    k=rag_config.retrieve_top_k,\n",
    ")\n",
    "\n",
    "lm_model = dspy.OpenAI(model=rag_config.default_llm_name, **rag_config.llm_kwargs)\n",
    "rerank_model = cohere.Client(api_key=os.environ.get('COHERE_API_KEY'))\n",
    "\n",
    "dspy.settings.configure(lm=lm_model, trace=[], temperature=rag_config.llm_kwargs[\"temperature\"]*3, rm=retriever_model) # TODO: Remove random number"
   ]
  },
  {
   "cell_type": "code",
   "execution_count": null,
   "metadata": {},
   "outputs": [],
   "source": [
    "def gen_rag_case(name: str, tool_results: str = \"tool_results\", rag_results: str = \"rag_results\"):\n",
    "\n",
    "    \"\"\"Return all data for running 1 case over the agent with RAG\"\"\"\n",
    "\n",
    "    from collections import namedtuple\n",
    "    from patient_cases import cases\n",
    "    from med_agent import MedOpenAIAgent\n",
    "    #from agent_tools import openai_agent_tools\n",
    "    from agent_tools_dummy import openai_agent_tools\n",
    "\n",
    "    PatientItem = namedtuple(\"patient_data\", [\"context\", \"question\", \"agent_tools\"])\n",
    "\n",
    "    rag = load_rag()\n",
    "    agent = MedOpenAIAgent.from_tools(tools=openai_agent_tools, rag=rag)\n",
    "\n",
    "    patient = cases[name]\n",
    "    context, question = patient\n",
    "\n",
    "    pat = PatientItem(context=context, question=question, agent_tools=agent.tools)\n",
    "    \n",
    "    tool_result = agent.chat_ext(context=pat.context, question=pat.question, use_rag=False) # use_rag = False => save first and use rag then later\n",
    "\n",
    "    pp(tool_result)\n",
    "    \n",
    "    if not os.path.exists(tool_results):\n",
    "        os.makedirs(tool_results)\n",
    "\n",
    "    with open(f\"{tool_results}/{name}.txt\", \"w\") as f:\n",
    "        f.write(tool_result)\n",
    "\n",
    "    print(agent._rag.check_citations)\n",
    "\n",
    "    patient_result = agent._rag(pat.question, pat.context, tool_results, pat.agent_tools, rerank_model=rerank_model)\n",
    "\n",
    "    if not os.path.exists(rag_results):\n",
    "        os.makedirs(rag_results)\n",
    "\n",
    "    with open(f\"{rag_results}/{name}.txt\", \"w\") as f:\n",
    "        f.write(patient_result.response)\n",
    "\n",
    "    pp(patient_result.response)\n",
    "    \n",
    "    return patient_result"
   ]
  },
  {
   "cell_type": "code",
   "execution_count": null,
   "metadata": {},
   "outputs": [],
   "source": [
    "patient_result = gen_rag_case(\"<<case_name>>\") # replace with the name of the case you want to run"
   ]
  },
  {
   "cell_type": "code",
   "execution_count": null,
   "metadata": {},
   "outputs": [],
   "source": [
    "pp(patient_result.response)"
   ]
  }
 ],
 "metadata": {
  "kernelspec": {
   "display_name": "medvenv",
   "language": "python",
   "name": "python3"
  },
  "language_info": {
   "codemirror_mode": {
    "name": "ipython",
    "version": 3
   },
   "file_extension": ".py",
   "mimetype": "text/x-python",
   "name": "python",
   "nbconvert_exporter": "python",
   "pygments_lexer": "ipython3",
   "version": "3.11.6"
  }
 },
 "nbformat": 4,
 "nbformat_minor": 2
}
